{
 "cells": [
  {
   "cell_type": "code",
   "execution_count": 8,
   "metadata": {},
   "outputs": [],
   "source": [
    "%matplotlib inline"
   ]
  },
  {
   "cell_type": "code",
   "execution_count": 1,
   "metadata": {},
   "outputs": [],
   "source": [
    "import numpy as np\n",
    "from sklearn import model_selection\n",
    "import csv \n",
    "from classify import classify\n",
    "import preprocessing as prep\n",
    "import matplotlib.pyplot as plt"
   ]
  },
  {
   "cell_type": "markdown",
   "metadata": {},
   "source": [
    "## Load data"
   ]
  },
  {
   "cell_type": "code",
   "execution_count": 2,
   "metadata": {},
   "outputs": [],
   "source": [
    "csv_file_object = csv.reader(open('Data\\\\train.csv', 'r')) # Load in the csv file\n",
    "header = next(csv_file_object)\t\t\t\t  # Skip the fist line as it is a header\n",
    "data=[] "
   ]
  },
  {
   "cell_type": "code",
   "execution_count": 3,
   "metadata": {},
   "outputs": [],
   "source": [
    "for row in csv_file_object: # Skip through each row in the csv file,\n",
    "    data.append(row[0:]) \t# adding each row to the data variable\n",
    "X = np.array(data) \t\t    # Then convert from a list to an array.\n",
    "y = X[:,1].astype(int) # Save labels to y "
   ]
  },
  {
   "cell_type": "code",
   "execution_count": 4,
   "metadata": {},
   "outputs": [],
   "source": [
    "X = np.delete(X,1,1) # Remove survival column from matrix X\n",
    "header = np.delete(header, 1)\n",
    "# Initialize cross validation\n",
    "kf = model_selection.KFold(n_splits=10)"
   ]
  },
  {
   "cell_type": "markdown",
   "metadata": {},
   "source": [
    "## Basic classifier"
   ]
  },
  {
   "cell_type": "code",
   "execution_count": 5,
   "metadata": {},
   "outputs": [
    {
     "name": "stdout",
     "output_type": "stream",
     "text": [
      "Accuracy: 0.8111111111111111\n",
      "Accuracy: 0.8202247191011236\n",
      "Accuracy: 0.7528089887640449\n",
      "Accuracy: 0.8426966292134831\n",
      "Accuracy: 0.7640449438202247\n",
      "Accuracy: 0.797752808988764\n",
      "Accuracy: 0.7415730337078652\n",
      "Accuracy: 0.7303370786516854\n",
      "Accuracy: 0.8426966292134831\n",
      "Accuracy: 0.7640449438202247\n",
      "Total Accuracy: 0.7867564534231201\n"
     ]
    }
   ],
   "source": [
    "totalInstances = 0 # Variable that will store the total intances that will be tested  \n",
    "totalCorrect = 0 # Variable that will store the correctly predicted intances  \n",
    "for trainIndex, testIndex in kf.split(X):\n",
    "    trainSet = X[trainIndex]\n",
    "    testSet = X[testIndex]\n",
    "    trainLabels = y[trainIndex]\n",
    "    testLabels = y[testIndex]\n",
    "\t\n",
    "    predictedLabels = classify(trainSet, trainLabels, testSet)\n",
    "\n",
    "    correct = 0\t\n",
    "    for i in range(testSet.shape[0]):\n",
    "        if predictedLabels[i] == testLabels[i]:\n",
    "            correct += 1\n",
    "        \n",
    "    print ('Accuracy: ' + str(float(correct)/(testLabels.size)))\n",
    "    totalCorrect += correct\n",
    "    totalInstances += testLabels.size\n",
    "print ('Total Accuracy: ' + str(totalCorrect/float(totalInstances)))"
   ]
  },
  {
   "cell_type": "markdown",
   "metadata": {},
   "source": [
    "## Preprocessing"
   ]
  },
  {
   "cell_type": "code",
   "execution_count": 6,
   "metadata": {},
   "outputs": [],
   "source": [
    "X, header = prep.preprocess(X, header)"
   ]
  },
  {
   "cell_type": "markdown",
   "metadata": {},
   "source": [
    "## Decision tree"
   ]
  },
  {
   "cell_type": "code",
   "execution_count": 7,
   "metadata": {},
   "outputs": [],
   "source": [
    "from sklearn.tree import DecisionTreeClassifier\n",
    "\n",
    "def decisionTree(D):\n",
    "    totalInstances = 0 # Variable that will store the total intances that will be tested  \n",
    "    totalCorrect = 0 # Variable that will store the correctly predicted intances  \n",
    "    clf = DecisionTreeClassifier(max_depth=D)\n",
    "    for trainIndex, testIndex in kf.split(X):\n",
    "        trainSet = X[trainIndex]\n",
    "        testSet = X[testIndex]\n",
    "        trainLabels = y[trainIndex]\n",
    "        testLabels = y[testIndex]\n",
    "        \n",
    "        clf.fit(trainSet, trainLabels)\n",
    "        predictedLabels = clf.predict(testSet)\n",
    "\n",
    "        correct = 0\t\n",
    "        for i in range(testSet.shape[0]):\n",
    "            if predictedLabels[i] == testLabels[i]:\n",
    "                correct += 1\n",
    "            \n",
    "        totalCorrect += correct\n",
    "        totalInstances += testLabels.size\n",
    "        accuracy = totalCorrect/float(totalInstances)\n",
    "    print ('Total Accuracy: ' + str(accuracy))\n",
    "    return accuracy"
   ]
  },
  {
   "cell_type": "markdown",
   "metadata": {},
   "source": [
    "## Testing Decision Tree for different depths (best result with D=5 or 6)"
   ]
  },
  {
   "cell_type": "code",
   "execution_count": 9,
   "metadata": {},
   "outputs": [
    {
     "name": "stdout",
     "output_type": "stream",
     "text": [
      "2\n",
      "Total Accuracy: 0.7643097643097643\n",
      "3\n",
      "Total Accuracy: 0.8170594837261503\n",
      "4\n",
      "Total Accuracy: 0.8047138047138047\n",
      "5\n",
      "Total Accuracy: 0.8080808080808081\n",
      "6\n",
      "Total Accuracy: 0.8159371492704826\n",
      "7\n",
      "Total Accuracy: 0.8047138047138047\n",
      "8\n",
      "Total Accuracy: 0.7912457912457912\n",
      "9\n",
      "Total Accuracy: 0.7968574635241302\n",
      "10\n",
      "Total Accuracy: 0.7968574635241302\n",
      "11\n",
      "Total Accuracy: 0.7912457912457912\n",
      "12\n",
      "Total Accuracy: 0.7822671156004489\n",
      "13\n",
      "Total Accuracy: 0.7822671156004489\n",
      "14\n",
      "Total Accuracy: 0.7755331088664422\n"
     ]
    },
    {
     "data": {
      "image/png": "[encoded data removed]",
      "text/plain": [
       "<Figure size 432x288 with 1 Axes>"
      ]
     },
     "metadata": {
      "needs_background": "light"
     },
     "output_type": "display_data"
    }
   ],
   "source": [
    "Ds = range(2,15)\n",
    "accuracys = []\n",
    "for D in Ds:\n",
    "    print(D)\n",
    "    accuracys.append(decisionTree(D))\n",
    "\n",
    "plt.plot(Ds, accuracys, label = \"accuracy % D\")\n",
    "plt.show()"
   ]
  },
  {
   "cell_type": "markdown",
   "metadata": {},
   "source": [
    "## AdaBoost with decision trees"
   ]
  },
  {
   "cell_type": "code",
   "execution_count": 10,
   "metadata": {},
   "outputs": [],
   "source": [
    "from sklearn.tree import DecisionTreeClassifier\n",
    "from sklearn.ensemble import AdaBoostClassifier\n",
    "\n",
    "def adaBoost(D):\n",
    "    totalInstances = 0 # Variable that will store the total intances that will be tested  \n",
    "    totalCorrect = 0 # Variable that will store the correctly predicted intances  \n",
    "    clf = AdaBoostClassifier(DecisionTreeClassifier(max_depth=D))\n",
    "    for trainIndex, testIndex in kf.split(X):\n",
    "        trainSet = X[trainIndex]\n",
    "        testSet = X[testIndex]\n",
    "        trainLabels = y[trainIndex]\n",
    "        testLabels = y[testIndex]\n",
    "        \n",
    "        clf.fit(trainSet, trainLabels)\n",
    "        predictedLabels = clf.predict(testSet)\n",
    "\n",
    "        correct = 0\t\n",
    "        for i in range(testSet.shape[0]):\n",
    "            if predictedLabels[i] == testLabels[i]:\n",
    "                correct += 1\n",
    "            \n",
    "        totalCorrect += correct\n",
    "        totalInstances += testLabels.size\n",
    "        accuracy = totalCorrect/float(totalInstances)\n",
    "    print ('Total Accuracy: ' + str(accuracy))\n",
    "    return accuracy"
   ]
  },
  {
   "cell_type": "markdown",
   "metadata": {},
   "source": [
    "## Adaboost Test for Different values of D (best with D=7) "
   ]
  },
  {
   "cell_type": "code",
   "execution_count": 11,
   "metadata": {},
   "outputs": [
    {
     "name": "stdout",
     "output_type": "stream",
     "text": [
      "2\n",
      "Total Accuracy: 0.7934904601571269\n",
      "3\n",
      "Total Accuracy: 0.7934904601571269\n",
      "4\n",
      "Total Accuracy: 0.7721661054994389\n",
      "5\n",
      "Total Accuracy: 0.7845117845117845\n",
      "6\n",
      "Total Accuracy: 0.7878787878787878\n",
      "7\n",
      "Total Accuracy: 0.8024691358024691\n",
      "8\n",
      "Total Accuracy: 0.7822671156004489\n",
      "9\n",
      "Total Accuracy: 0.792368125701459\n",
      "10\n",
      "Total Accuracy: 0.7901234567901234\n",
      "11\n",
      "Total Accuracy: 0.7946127946127947\n",
      "12\n",
      "Total Accuracy: 0.7833894500561167\n",
      "13\n",
      "Total Accuracy: 0.7946127946127947\n",
      "14\n",
      "Total Accuracy: 0.7890011223344556\n"
     ]
    },
    {
     "data": {
      "image/png": "[encoded data removed]",
      "text/plain": [
       "<Figure size 432x288 with 1 Axes>"
      ]
     },
     "metadata": {
      "needs_background": "light"
     },
     "output_type": "display_data"
    }
   ],
   "source": [
    "Ds = range(2,15)\n",
    "accuracys = []\n",
    "for D in Ds:\n",
    "    print(D)\n",
    "    accuracys.append(adaBoost(D))\n",
    "\n",
    "plt.plot(Ds, accuracys, label = \"accuracy % D\")\n",
    "plt.show()"
   ]
  },
  {
   "cell_type": "markdown",
   "metadata": {},
   "source": [
    "## Neural Network"
   ]
  },
  {
   "cell_type": "code",
   "execution_count": 14,
   "metadata": {},
   "outputs": [],
   "source": [
    "from sklearn.neural_network import MLPClassifier\n",
    "\n",
    "def NN(hl_sizes=(100,), activation='relu', solver='sgd', lr=0.01, lr_evol='constant', max_iter=200, tol=0.001, early_stopping=True, validation_fraction=0.1, n_iter_no_change=5):\n",
    "    totalInstances = 0 # Variable that will store the total intances that will be tested  \n",
    "    totalCorrect = 0 # Variable that will store the correctly predicted intances  \n",
    "    clf = MLPClassifier(hidden_layer_sizes=hl_sizes, activation=activation, solver=solver , learning_rate_init=lr, learning_rate=lr_evol, max_iter=max_iter, tol= tol, early_stopping=early_stopping, validation_fraction=validation_fraction, n_iter_no_change=n_iter_no_change)\n",
    "    for trainIndex, testIndex in kf.split(X):\n",
    "        trainSet = X[trainIndex]\n",
    "        testSet = X[testIndex]\n",
    "        trainLabels = y[trainIndex]\n",
    "        testLabels = y[testIndex]\n",
    "        \n",
    "        clf.fit(trainSet, trainLabels)\n",
    "        predictedLabels = clf.predict(testSet)\n",
    "\n",
    "        correct = 0\t\n",
    "        for i in range(testSet.shape[0]):\n",
    "            if predictedLabels[i] == testLabels[i]:\n",
    "                correct += 1\n",
    "            \n",
    "        totalCorrect += correct\n",
    "        totalInstances += testLabels.size\n",
    "        accuracy = totalCorrect/float(totalInstances)\n",
    "    return accuracy"
   ]
  },
  {
   "cell_type": "markdown",
   "metadata": {},
   "source": [
    "## NN Test with sgd, different constant lr, 1 hidden layer of varying size "
   ]
  },
  {
   "cell_type": "code",
   "execution_count": 18,
   "metadata": {},
   "outputs": [
    {
     "data": {
      "image/png": "[encoded data removed]",
      "text/plain": [
       "<Figure size 432x288 with 1 Axes>"
      ]
     },
     "metadata": {
      "needs_background": "light"
     },
     "output_type": "display_data"
    },
    {
     "data": {
      "image/png": "[encoded data removed]",
      "text/plain": [
       "<Figure size 432x288 with 1 Axes>"
      ]
     },
     "metadata": {
      "needs_background": "light"
     },
     "output_type": "display_data"
    }
   ],
   "source": [
    "lrs = [(2**n)*0.0001 for n in range(11)]\n",
    "sizes = [(120+10*n,) for n in range(20)]\n",
    "accuracies=np.zeros((len(lrs), len(sizes)))\n",
    "\n",
    "for i in range(len(lrs)):\n",
    "    for j in range(len(sizes)):\n",
    "        accuracies[i,j]=NN(hl_sizes=sizes[j], lr=lrs[i])\n",
    "\n",
    "idx = np.argsort(accuracies, axis=0)\n",
    "plt.figure(1)\n",
    "plt.plot(sizes, [lrs[i] for i in idx[-1,:]], label=\"best learning rate for each hidden layer size\")\n",
    "plt.figure(2)\n",
    "plt.plot(sizes, [accuracies[idx[-1,i],i] for i in range(len(sizes))], label=\"corresponding accuracies\")\n",
    "plt.show()\n"
   ]
  },
  {
   "cell_type": "markdown",
   "metadata": {},
   "source": [
    "## NN Test for higher hidden layers sizes (from 200 to 400)"
   ]
  },
  {
   "cell_type": "code",
   "execution_count": null,
   "metadata": {},
   "outputs": [],
   "source": [
    "lrs = [(2**n)*0.0001 for n in range(11)]\n",
    "sizes = [(200+10*n,) for n in range(20)]\n",
    "accuracies=np.zeros((len(lrs), len(sizes)))\n",
    "\n",
    "for i in range(len(lrs)):\n",
    "    for j in range(len(sizes)):\n",
    "        accuracies[i,j]=NN(hl_sizes=sizes[j], lr=lrs[i])\n",
    "\n",
    "idx = np.argsort(accuracies, axis=0)\n",
    "plt.figure(1)\n",
    "plt.plot(sizes, [lrs[i] for i in idx[-1,:]], label=\"best learning rate for each hidden layer size\")\n",
    "plt.figure(2)\n",
    "plt.plot(sizes, [accuracies[idx[-1,i],i] for i in range(len(sizes))], label=\"corresponding accuracies\")\n",
    "plt.show()"
   ]
  },
  {
   "cell_type": "code",
   "execution_count": null,
   "metadata": {},
   "outputs": [],
   "source": []
  }
 ],
 "metadata": {
  "kernelspec": {
   "display_name": "Python 3",
   "language": "python",
   "name": "python3"
  },
  "language_info": {
   "codemirror_mode": {
    "name": "ipython",
    "version": 3
   },
   "file_extension": ".py",
   "mimetype": "text/x-python",
   "name": "python",
   "nbconvert_exporter": "python",
   "pygments_lexer": "ipython3",
   "version": "3.7.0"
  }
 },
 "nbformat": 4,
 "nbformat_minor": 2
}
