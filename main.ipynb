{
 "cells": [
  {
   "cell_type": "code",
   "execution_count": 1,
   "metadata": {},
   "outputs": [],
   "source": [
    "%matplotlib inline"
   ]
  },
  {
   "cell_type": "code",
   "execution_count": 2,
   "metadata": {},
   "outputs": [],
   "source": [
    "import numpy as np\n",
    "from sklearn import model_selection\n",
    "import pandas as pd\n",
    "from classify import classify\n",
    "import preprocessing as prep\n",
    "import matplotlib.pyplot as plt"
   ]
  },
  {
   "cell_type": "markdown",
   "metadata": {},
   "source": [
    "## Load data"
   ]
  },
  {
   "cell_type": "code",
   "execution_count": 19,
   "metadata": {},
   "outputs": [
    {
     "name": "stdout",
     "output_type": "stream",
     "text": [
      "PassengerId\n",
      "1    0\n",
      "2    1\n",
      "3    1\n",
      "4    1\n",
      "5    0\n",
      "Name: Survived, dtype: int64\n",
      "             Pclass                                               Name  \\\n",
      "PassengerId                                                              \n",
      "1                 3                            Braund, Mr. Owen Harris   \n",
      "2                 1  Cumings, Mrs. John Bradley (Florence Briggs Th...   \n",
      "3                 3                             Heikkinen, Miss. Laina   \n",
      "4                 1       Futrelle, Mrs. Jacques Heath (Lily May Peel)   \n",
      "5                 3                           Allen, Mr. William Henry   \n",
      "\n",
      "                Sex   Age  SibSp  Parch            Ticket     Fare Cabin  \\\n",
      "PassengerId                                                                \n",
      "1              male  22.0      1      0         A/5 21171   7.2500   NaN   \n",
      "2            female  38.0      1      0          PC 17599  71.2833   C85   \n",
      "3            female  26.0      0      0  STON/O2. 3101282   7.9250   NaN   \n",
      "4            female  35.0      1      0            113803  53.1000  C123   \n",
      "5              male  35.0      0      0            373450   8.0500   NaN   \n",
      "\n",
      "            Embarked  \n",
      "PassengerId           \n",
      "1                  S  \n",
      "2                  C  \n",
      "3                  S  \n",
      "4                  S  \n",
      "5                  S  \n"
     ]
    }
   ],
   "source": [
    "data = pd.read_csv('Data\\\\train.csv', index_col='PassengerId') # Load in the csv file\n",
    "y = data['Survived']\n",
    "print(y.head())\n",
    "data = data.drop('Survived', axis=1)\n",
    "print(data.head())"
   ]
  },
  {
   "cell_type": "code",
   "execution_count": 4,
   "metadata": {},
   "outputs": [
    {
     "name": "stdout",
     "output_type": "stream",
     "text": [
      "[[3 'Braund, Mr. Owen Harris' 'male' 22.0 1 0 'A/5 21171' 7.25 nan 'S']\n",
      " [1 'Cumings, Mrs. John Bradley (Florence Briggs Thayer)' 'female' 38.0 1\n",
      "  0 'PC 17599' 71.2833 'C85' 'C']\n",
      " [3 'Heikkinen, Miss. Laina' 'female' 26.0 0 0 'STON/O2. 3101282' 7.925\n",
      "  nan 'S']\n",
      " [1 'Futrelle, Mrs. Jacques Heath (Lily May Peel)' 'female' 35.0 1 0\n",
      "  '113803' 53.1 'C123' 'S']\n",
      " [3 'Allen, Mr. William Henry' 'male' 35.0 0 0 '373450' 8.05 nan 'S']\n",
      " [3 'Moran, Mr. James' 'male' nan 0 0 '330877' 8.4583 nan 'Q']\n",
      " [1 'McCarthy, Mr. Timothy J' 'male' 54.0 0 0 '17463' 51.8625 'E46' 'S']\n",
      " [3 'Palsson, Master. Gosta Leonard' 'male' 2.0 3 1 '349909' 21.075 nan\n",
      "  'S']\n",
      " [3 'Johnson, Mrs. Oscar W (Elisabeth Vilhelmina Berg)' 'female' 27.0 0 2\n",
      "  '347742' 11.1333 nan 'S']\n",
      " [2 'Nasser, Mrs. Nicholas (Adele Achem)' 'female' 14.0 1 0 '237736'\n",
      "  30.0708 nan 'C']]\n"
     ]
    }
   ],
   "source": [
    "X = data.values\n",
    "print(X[:10])"
   ]
  },
  {
   "cell_type": "code",
   "execution_count": 5,
   "metadata": {},
   "outputs": [],
   "source": [
    "y = y.values\n",
    "# Initialize cross validation\n",
    "kf = model_selection.KFold(n_splits=10)"
   ]
  },
  {
   "cell_type": "markdown",
   "metadata": {},
   "source": [
    "## Basic classifier"
   ]
  },
  {
   "cell_type": "code",
   "execution_count": 6,
   "metadata": {},
   "outputs": [
    {
     "name": "stdout",
     "output_type": "stream",
     "text": [
      "Accuracy: 0.8111111111111111\n",
      "Accuracy: 0.8202247191011236\n",
      "Accuracy: 0.7528089887640449\n",
      "Accuracy: 0.8426966292134831\n",
      "Accuracy: 0.7640449438202247\n",
      "Accuracy: 0.797752808988764\n",
      "Accuracy: 0.7415730337078652\n",
      "Accuracy: 0.7303370786516854\n",
      "Accuracy: 0.8426966292134831\n",
      "Accuracy: 0.7640449438202247\n",
      "Total Accuracy: 0.7867564534231201\n"
     ]
    }
   ],
   "source": [
    "totalInstances = 0 # Variable that will store the total intances that will be tested  \n",
    "totalCorrect = 0 # Variable that will store the correctly predicted intances  \n",
    "for trainIndex, testIndex in kf.split(X):\n",
    "    trainSet = X[trainIndex]\n",
    "    testSet = X[testIndex]\n",
    "    trainLabels = y[trainIndex]\n",
    "    testLabels = y[testIndex]\n",
    "\t\n",
    "    predictedLabels = classify(trainSet, trainLabels, testSet)\n",
    "\n",
    "    correct = 0\t\n",
    "    for i in range(testSet.shape[0]):\n",
    "        if predictedLabels[i] == testLabels[i]:\n",
    "            correct += 1\n",
    "        \n",
    "    print ('Accuracy: ' + str(float(correct)/(testLabels.size)))\n",
    "    totalCorrect += correct\n",
    "    totalInstances += testLabels.size\n",
    "print ('Total Accuracy: ' + str(totalCorrect/float(totalInstances)))"
   ]
  },
  {
   "cell_type": "markdown",
   "metadata": {},
   "source": [
    "## Preprocessing"
   ]
  },
  {
   "cell_type": "code",
   "execution_count": 7,
   "metadata": {},
   "outputs": [
    {
     "name": "stdout",
     "output_type": "stream",
     "text": [
      "             Pclass Name  Sex   Age  SibSp  Parch     Fare  Embarked\n",
      "PassengerId                                                         \n",
      "1                 3    0    0  22.0      1      0   7.2500         2\n",
      "2                 1    1    1  38.0      1      0  71.2833         0\n",
      "3                 3    2    1  26.0      0      0   7.9250         2\n",
      "4                 1    1    1  35.0      1      0  53.1000         2\n",
      "5                 3    0    0  35.0      0      0   8.0500         2\n"
     ]
    },
    {
     "name": "stderr",
     "output_type": "stream",
     "text": [
      "C:\\Users\\TEMP\\Anaconda3\\lib\\site-packages\\sklearn\\utils\\validation.py:595: DataConversionWarning: Data with input dtype object was converted to float64 by the scale function.\n",
      "  warnings.warn(msg, DataConversionWarning)\n"
     ]
    }
   ],
   "source": [
    "X = prep.preprocess(data)"
   ]
  },
  {
   "cell_type": "markdown",
   "metadata": {},
   "source": [
    "## PCA"
   ]
  },
  {
   "cell_type": "code",
   "execution_count": 8,
   "metadata": {},
   "outputs": [
    {
     "data": {
      "text/plain": [
       "array([[-1.39419806,  0.18932276,  0.29859087, -0.01787278,  0.52520433,\n",
       "        -0.33881599],\n",
       "       [ 2.42658996, -0.23050724, -1.37524371,  0.18689287, -0.14489675,\n",
       "         0.4338106 ],\n",
       "       [-0.78587658,  0.17529447, -0.43906837,  0.32566835, -1.51545945,\n",
       "        -0.29298414],\n",
       "       ...,\n",
       "       [-0.05663698,  1.98015597,  0.40694696,  0.13220145, -1.27623778,\n",
       "         0.89340778],\n",
       "       [ 1.06200971, -1.04488227, -1.34244182,  0.16037292,  1.22227891,\n",
       "        -0.13932455],\n",
       "       [-0.88225871, -0.74510618, -0.61858653,  0.18218806,  0.57436746,\n",
       "         0.52984824]])"
      ]
     },
     "execution_count": 8,
     "metadata": {},
     "output_type": "execute_result"
    }
   ],
   "source": [
    "from sklearn.decomposition import PCA\n",
    "\n",
    "pca = PCA(n_components = 0.85, svd_solver=\"full\")\n",
    "pca.fit_transform(X)"
   ]
  },
  {
   "cell_type": "markdown",
   "metadata": {},
   "source": [
    "## Decision tree"
   ]
  },
  {
   "cell_type": "code",
   "execution_count": 9,
   "metadata": {},
   "outputs": [],
   "source": [
    "from sklearn.tree import DecisionTreeClassifier\n",
    "\n",
    "def decisionTree(D):\n",
    "    totalInstances = 0 # Variable that will store the total intances that will be tested  \n",
    "    totalCorrect = 0 # Variable that will store the correctly predicted intances  \n",
    "    clf = DecisionTreeClassifier(max_depth=D)\n",
    "    for trainIndex, testIndex in kf.split(X):\n",
    "        trainSet = X[trainIndex]\n",
    "        testSet = X[testIndex]\n",
    "        trainLabels = y[trainIndex]\n",
    "        testLabels = y[testIndex]\n",
    "        \n",
    "        clf.fit(trainSet, trainLabels)\n",
    "        predictedLabels = clf.predict(testSet)\n",
    "\n",
    "        correct = 0\t\n",
    "        for i in range(testSet.shape[0]):\n",
    "            if predictedLabels[i] == testLabels[i]:\n",
    "                correct += 1\n",
    "            \n",
    "        totalCorrect += correct\n",
    "        totalInstances += testLabels.size\n",
    "        accuracy = totalCorrect/float(totalInstances)\n",
    "    print ('Total Accuracy: ' + str(accuracy))\n",
    "    return accuracy"
   ]
  },
  {
   "cell_type": "markdown",
   "metadata": {},
   "source": [
    "## Testing Decision Tree for different depths (best result with D=5 or 6)"
   ]
  },
  {
   "cell_type": "code",
   "execution_count": 10,
   "metadata": {},
   "outputs": [
    {
     "name": "stdout",
     "output_type": "stream",
     "text": [
      "2\n",
      "Total Accuracy: 0.7890011223344556\n",
      "3\n",
      "Total Accuracy: 0.8271604938271605\n",
      "4\n",
      "Total Accuracy: 0.835016835016835\n",
      "5\n",
      "Total Accuracy: 0.819304152637486\n",
      "6\n",
      "Total Accuracy: 0.8305274971941639\n",
      "7\n",
      "Total Accuracy: 0.8170594837261503\n",
      "8\n",
      "Total Accuracy: 0.8215488215488216\n",
      "9\n",
      "Total Accuracy: 0.7957351290684624\n",
      "10\n",
      "Total Accuracy: 0.8024691358024691\n",
      "11\n",
      "Total Accuracy: 0.7867564534231201\n",
      "12\n",
      "Total Accuracy: 0.7867564534231201\n",
      "13\n",
      "Total Accuracy: 0.7867564534231201\n",
      "14\n",
      "Total Accuracy: 0.77665544332211\n"
     ]
    },
    {
     "data": {
      "image/png": "[encoded data removed]",
      "text/plain": [
       "<Figure size 432x288 with 1 Axes>"
      ]
     },
     "metadata": {
      "needs_background": "light"
     },
     "output_type": "display_data"
    }
   ],
   "source": [
    "Ds = range(2,15)\n",
    "accuracys = []\n",
    "for D in Ds:\n",
    "    print(D)\n",
    "    accuracys.append(decisionTree(D))\n",
    "\n",
    "plt.plot(Ds, accuracys, label = \"accuracy % D\")\n",
    "plt.show()"
   ]
  },
  {
   "cell_type": "markdown",
   "metadata": {},
   "source": [
    "## AdaBoost with decision trees"
   ]
  },
  {
   "cell_type": "code",
   "execution_count": 11,
   "metadata": {},
   "outputs": [],
   "source": [
    "from sklearn.tree import DecisionTreeClassifier\n",
    "from sklearn.ensemble import AdaBoostClassifier\n",
    "\n",
    "def adaBoost(D):\n",
    "    totalInstances = 0 # Variable that will store the total intances that will be tested  \n",
    "    totalCorrect = 0 # Variable that will store the correctly predicted intances  \n",
    "    clf = AdaBoostClassifier(DecisionTreeClassifier(max_depth=D))\n",
    "    for trainIndex, testIndex in kf.split(X):\n",
    "        trainSet = X[trainIndex]\n",
    "        testSet = X[testIndex]\n",
    "        trainLabels = y[trainIndex]\n",
    "        testLabels = y[testIndex]\n",
    "        \n",
    "        clf.fit(trainSet, trainLabels)\n",
    "        predictedLabels = clf.predict(testSet)\n",
    "\n",
    "        correct = 0\t\n",
    "        for i in range(testSet.shape[0]):\n",
    "            if predictedLabels[i] == testLabels[i]:\n",
    "                correct += 1\n",
    "            \n",
    "        totalCorrect += correct\n",
    "        totalInstances += testLabels.size\n",
    "        accuracy = totalCorrect/float(totalInstances)\n",
    "    print ('Total Accuracy: ' + str(accuracy))\n",
    "    return accuracy"
   ]
  },
  {
   "cell_type": "markdown",
   "metadata": {},
   "source": [
    "## Adaboost Test for Different values of D (best with D=7) "
   ]
  },
  {
   "cell_type": "code",
   "execution_count": 12,
   "metadata": {},
   "outputs": [
    {
     "name": "stdout",
     "output_type": "stream",
     "text": [
      "2\n",
      "Total Accuracy: 0.7890011223344556\n",
      "3\n",
      "Total Accuracy: 0.7833894500561167\n",
      "4\n",
      "Total Accuracy: 0.7755331088664422\n",
      "5\n",
      "Total Accuracy: 0.7867564534231201\n",
      "6\n",
      "Total Accuracy: 0.7878787878787878\n",
      "7\n",
      "Total Accuracy: 0.7878787878787878\n",
      "8\n",
      "Total Accuracy: 0.7946127946127947\n",
      "9\n",
      "Total Accuracy: 0.7968574635241302\n",
      "10\n",
      "Total Accuracy: 0.797979797979798\n",
      "11\n",
      "Total Accuracy: 0.7946127946127947\n",
      "12\n",
      "Total Accuracy: 0.792368125701459\n",
      "13\n",
      "Total Accuracy: 0.792368125701459\n",
      "14\n",
      "Total Accuracy: 0.7968574635241302\n"
     ]
    },
    {
     "data": {
      "image/png": "[encoded data removed]",
      "text/plain": [
       "<Figure size 432x288 with 1 Axes>"
      ]
     },
     "metadata": {
      "needs_background": "light"
     },
     "output_type": "display_data"
    }
   ],
   "source": [
    "Ds = range(2,15)\n",
    "accuracys = []\n",
    "for D in Ds:\n",
    "    print(D)\n",
    "    accuracys.append(adaBoost(D))\n",
    "\n",
    "plt.plot(Ds, accuracys, label = \"accuracy % D\")\n",
    "plt.show()"
   ]
  },
  {
   "cell_type": "markdown",
   "metadata": {},
   "source": [
    "## Neural Network"
   ]
  },
  {
   "cell_type": "code",
   "execution_count": 13,
   "metadata": {},
   "outputs": [],
   "source": [
    "from sklearn.neural_network import MLPClassifier\n",
    "\n",
    "def NN(hl_sizes=(100,), activation='relu', solver='sgd', lr=0.01, lr_evol='constant', max_iter=200, tol=0.001, early_stopping=True, validation_fraction=0.1, n_iter_no_change=5):\n",
    "    totalInstances = 0 # Variable that will store the total intances that will be tested  \n",
    "    totalCorrect = 0 # Variable that will store the correctly predicted intances  \n",
    "    clf = MLPClassifier(hidden_layer_sizes=hl_sizes, activation=activation, solver=solver , learning_rate_init=lr, learning_rate=lr_evol, max_iter=max_iter, tol= tol, early_stopping=early_stopping, validation_fraction=validation_fraction, n_iter_no_change=n_iter_no_change)\n",
    "    for trainIndex, testIndex in kf.split(X):\n",
    "        trainSet = X[trainIndex]\n",
    "        testSet = X[testIndex]\n",
    "        trainLabels = y[trainIndex]\n",
    "        testLabels = y[testIndex]\n",
    "        \n",
    "        clf.fit(trainSet, trainLabels)\n",
    "        predictedLabels = clf.predict(testSet)\n",
    "\n",
    "        correct = 0\t\n",
    "        for i in range(testSet.shape[0]):\n",
    "            if predictedLabels[i] == testLabels[i]:\n",
    "                correct += 1\n",
    "            \n",
    "        totalCorrect += correct\n",
    "        totalInstances += testLabels.size\n",
    "        accuracy = totalCorrect/float(totalInstances)\n",
    "    return accuracy"
   ]
  },
  {
   "cell_type": "markdown",
   "metadata": {},
   "source": [
    "## NN Test with sgd, different constant lr, 1 hidden layer of varying size "
   ]
  },
  {
   "cell_type": "code",
   "execution_count": 14,
   "metadata": {},
   "outputs": [
    {
     "data": {
      "image/png": "[encoded data removed]",
      "text/plain": [
       "<Figure size 432x288 with 1 Axes>"
      ]
     },
     "metadata": {
      "needs_background": "light"
     },
     "output_type": "display_data"
    },
    {
     "data": {
      "image/png": "[encoded data removed]",
      "text/plain": [
       "<Figure size 432x288 with 1 Axes>"
      ]
     },
     "metadata": {
      "needs_background": "light"
     },
     "output_type": "display_data"
    }
   ],
   "source": [
    "lrs = [(2**n)*0.0001 for n in range(11)]\n",
    "sizes = [(120+10*n,) for n in range(20)]\n",
    "accuracies=np.zeros((len(lrs), len(sizes)))\n",
    "\n",
    "for i in range(len(lrs)):\n",
    "    for j in range(len(sizes)):\n",
    "        accuracies[i,j]=NN(hl_sizes=sizes[j], lr=lrs[i])\n",
    "\n",
    "idx = np.argsort(accuracies, axis=0)\n",
    "plt.figure(1)\n",
    "plt.plot(sizes, [lrs[i] for i in idx[-1,:]], label=\"best learning rate for each hidden layer size\")\n",
    "plt.figure(2)\n",
    "plt.plot(sizes, [accuracies[idx[-1,i],i] for i in range(len(sizes))], label=\"corresponding accuracies\")\n",
    "plt.show()\n"
   ]
  },
  {
   "cell_type": "markdown",
   "metadata": {},
   "source": [
    "## NN Test for higher hidden layers sizes (from 200 to 400)"
   ]
  },
  {
   "cell_type": "code",
   "execution_count": 15,
   "metadata": {},
   "outputs": [
    {
     "data": {
      "image/png": "[encoded data removed]",
      "text/plain": [
       "<Figure size 432x288 with 1 Axes>"
      ]
     },
     "metadata": {
      "needs_background": "light"
     },
     "output_type": "display_data"
    },
    {
     "data": {
      "image/png": "[encoded data removed]",
      "text/plain": [
       "<Figure size 432x288 with 1 Axes>"
      ]
     },
     "metadata": {
      "needs_background": "light"
     },
     "output_type": "display_data"
    }
   ],
   "source": [
    "lrs = [(2**n)*0.0001 for n in range(11)]\n",
    "sizes = [(200+10*n,) for n in range(20)]\n",
    "accuracies=np.zeros((len(lrs), len(sizes)))\n",
    "\n",
    "for i in range(len(lrs)):\n",
    "    for j in range(len(sizes)):\n",
    "        accuracies[i,j]=NN(hl_sizes=sizes[j], lr=lrs[i])\n",
    "\n",
    "idx = np.argsort(accuracies, axis=0)\n",
    "plt.figure(1)\n",
    "plt.plot(sizes, [lrs[i] for i in idx[-1,:]], label=\"best learning rate for each hidden layer size\")\n",
    "plt.figure(2)\n",
    "plt.plot(sizes, [accuracies[idx[-1,i],i] for i in range(len(sizes))], label=\"corresponding accuracies\")\n",
    "plt.show()"
   ]
  },
  {
   "cell_type": "markdown",
   "metadata": {},
   "source": [
    "## LDA"
   ]
  },
  {
   "cell_type": "code",
   "execution_count": 16,
   "metadata": {},
   "outputs": [
    {
     "name": "stdout",
     "output_type": "stream",
     "text": [
      "Total accuracy :  0.792368125701459\n"
     ]
    }
   ],
   "source": [
    "from sklearn.discriminant_analysis import LinearDiscriminantAnalysis as LDA\n",
    "\n",
    "totalInstances = 0 # Variable that will store the total intances that will be tested  \n",
    "totalCorrect = 0 # Variable that will store the correctly predicted intances  \n",
    "clf = LDA(solver='eigen')\n",
    "for trainIndex, testIndex in kf.split(X):\n",
    "    trainSet = X[trainIndex]\n",
    "    testSet = X[testIndex]\n",
    "    trainLabels = y[trainIndex]\n",
    "    testLabels = y[testIndex]\n",
    "\n",
    "    clf.fit(trainSet, trainLabels)\n",
    "    clf.transform(testSet)\n",
    "    predictedLabels = clf.predict(testSet)\n",
    "\n",
    "    correct = 0\t\n",
    "    for i in range(testSet.shape[0]):\n",
    "        if predictedLabels[i] == testLabels[i]:\n",
    "            correct += 1\n",
    "\n",
    "    totalCorrect += correct\n",
    "    totalInstances += testLabels.size\n",
    "    accuracy = totalCorrect/float(totalInstances)\n",
    "print(\"Total accuracy : \",str(accuracy))\n"
   ]
  },
  {
   "cell_type": "code",
   "execution_count": 18,
   "metadata": {},
   "outputs": [
    {
     "name": "stdout",
     "output_type": "stream",
     "text": [
      "   PassengerId  Pclass                                          Name     Sex  \\\n",
      "0          892       3                              Kelly, Mr. James    male   \n",
      "1          893       3              Wilkes, Mrs. James (Ellen Needs)  female   \n",
      "2          894       2                     Myles, Mr. Thomas Francis    male   \n",
      "3          895       3                              Wirz, Mr. Albert    male   \n",
      "4          896       3  Hirvonen, Mrs. Alexander (Helga E Lindqvist)  female   \n",
      "\n",
      "    Age  SibSp  Parch   Ticket     Fare Cabin Embarked  \n",
      "0  34.5      0      0   330911   7.8292   NaN        Q  \n",
      "1  47.0      1      0   363272   7.0000   NaN        S  \n",
      "2  62.0      0      0   240276   9.6875   NaN        Q  \n",
      "3  27.0      0      0   315154   8.6625   NaN        S  \n",
      "4  22.0      1      1  3101298  12.2875   NaN        S  \n"
     ]
    }
   ],
   "source": [
    "import pandas as pd\n",
    "\n",
    "test = pd.read_csv('Data\\\\test.csv')\n",
    "print(test.head())"
   ]
  },
  {
   "cell_type": "code",
   "execution_count": null,
   "metadata": {},
   "outputs": [],
   "source": []
  }
 ],
 "metadata": {
  "kernelspec": {
   "display_name": "Python 3",
   "language": "python",
   "name": "python3"
  },
  "language_info": {
   "codemirror_mode": {
    "name": "ipython",
    "version": 3
   },
   "file_extension": ".py",
   "mimetype": "text/x-python",
   "name": "python",
   "nbconvert_exporter": "python",
   "pygments_lexer": "ipython3",
   "version": "3.7.0"
  }
 },
 "nbformat": 4,
 "nbformat_minor": 2
}
